{
 "cells": [
  {
   "cell_type": "code",
   "execution_count": 9,
   "metadata": {},
   "outputs": [],
   "source": [
    "import pandas as pd\n",
    "# Define the file path\n",
    "file_path = 'Data\\\\2021_Federal_Census__Citizenship_20231228.csv'\n",
    "# Read the file into a DataFrame\n",
    "data = pd.read_csv(file_path)"
   ]
  },
  {
   "cell_type": "markdown",
   "metadata": {},
   "source": [
    "## Citizenship Overview Across Different Neighbourhoods"
   ]
  },
  {
   "cell_type": "markdown",
   "metadata": {},
   "source": [
    "Top 10 Neighbourhoods with the Highest Number of Canadian Citizens"
   ]
  },
  {
   "cell_type": "code",
   "execution_count": 10,
   "metadata": {},
   "outputs": [
    {
     "data": {
      "text/plain": [
       "Neighbourhood\n",
       "Oliver          15315.0\n",
       "Summerside      14930.0\n",
       "The Hamptons    11515.0\n",
       "Windermere      11020.0\n",
       "Walker          10195.0\n",
       "Laurel           9715.0\n",
       "Rutherford       9520.0\n",
       "Downtown         9355.0\n",
       "Chappelle        8785.0\n",
       "Mcconachie       8690.0\n",
       "Name: Value, dtype: float64"
      ]
     },
     "execution_count": 10,
     "metadata": {},
     "output_type": "execute_result"
    }
   ],
   "source": [
    "# Filtering the data to include only rows where the Gender is 'Total'\n",
    "total_gender_data = data[data['Gender'] == 'Total']\n",
    "\n",
    "# Analyzing Citizenship Overview across different neighbourhoods \n",
    "citizenship_overview_total = total_gender_data.groupby(['Neighbourhood', 'Characteristic'])['Value'].sum().unstack()\n",
    "\n",
    "# Focusing on 'Canadian citizens' \n",
    "canadian_citizens_total = total_gender_data[total_gender_data['Characteristic'] == 'Canadian citizens'].groupby('Neighbourhood')['Value'].sum()\n",
    "\n",
    "# Top neighbourhoods for Canadian citizens for 'Total' gender\n",
    "top_canadian_neighbourhoods_total = canadian_citizens_total.nlargest(10)\n",
    "\n",
    "top_canadian_neighbourhoods_total"
   ]
  },
  {
   "cell_type": "markdown",
   "metadata": {},
   "source": [
    "Top 10 Neighbourhoods with the Highest Number of Non-Canadian Citizens"
   ]
  },
  {
   "cell_type": "code",
   "execution_count": 11,
   "metadata": {},
   "outputs": [
    {
     "data": {
      "text/plain": [
       "Neighbourhood\n",
       "Laurel          5330.0\n",
       "Walker          3235.0\n",
       "Tamarack        2205.0\n",
       "Oliver          2195.0\n",
       "Summerside      2140.0\n",
       "Allard          2085.0\n",
       "Downtown        2075.0\n",
       "Silver Berry    2045.0\n",
       "Chappelle       2010.0\n",
       "Windermere      1950.0\n",
       "Name: Value, dtype: float64"
      ]
     },
     "execution_count": 11,
     "metadata": {},
     "output_type": "execute_result"
    }
   ],
   "source": [
    "# Focusing on 'Not Canadian citizens' \n",
    "non_canadian_citizens_total = total_gender_data[total_gender_data['Characteristic'] == 'Not Canadian citizens'].groupby('Neighbourhood')['Value'].sum()\n",
    "\n",
    "# Top neighbourhoods for non-Canadian citizens for 'Total' gender\n",
    "top_non_canadian_neighbourhoods_total = non_canadian_citizens_total.nlargest(10)\n",
    "\n",
    "top_non_canadian_neighbourhoods_total"
   ]
  },
  {
   "cell_type": "markdown",
   "metadata": {},
   "source": [
    "The analysis reveals that neighbourhoods like Oliver, Summerside, and Walker are popular among both Canadian and non-Canadian citizens, indicating their appeal across diverse populations. Oliver has the highest number of Canadian citizens, while Laurel leads in non-Canadian residents. These areas likely offer amenities and lifestyles attractive to a wide demographic, reflecting a dynamic and multicultural community."
   ]
  },
  {
   "cell_type": "markdown",
   "metadata": {},
   "source": [
    "## Gender Distribution"
   ]
  },
  {
   "cell_type": "code",
   "execution_count": 12,
   "metadata": {},
   "outputs": [
    {
     "data": {
      "text/html": [
       "<div>\n",
       "<style scoped>\n",
       "    .dataframe tbody tr th:only-of-type {\n",
       "        vertical-align: middle;\n",
       "    }\n",
       "\n",
       "    .dataframe tbody tr th {\n",
       "        vertical-align: top;\n",
       "    }\n",
       "\n",
       "    .dataframe thead th {\n",
       "        text-align: right;\n",
       "    }\n",
       "</style>\n",
       "<table border=\"1\" class=\"dataframe\">\n",
       "  <thead>\n",
       "    <tr style=\"text-align: right;\">\n",
       "      <th>Characteristic</th>\n",
       "      <th>Canadian citizens</th>\n",
       "      <th>Canadian citizens aged 18 and over</th>\n",
       "      <th>Canadian citizens aged under 18</th>\n",
       "      <th>Not Canadian citizens</th>\n",
       "    </tr>\n",
       "    <tr>\n",
       "      <th>Gender</th>\n",
       "      <th></th>\n",
       "      <th></th>\n",
       "      <th></th>\n",
       "      <th></th>\n",
       "    </tr>\n",
       "  </thead>\n",
       "  <tbody>\n",
       "    <tr>\n",
       "      <th>Men+</th>\n",
       "      <td>431725.0</td>\n",
       "      <td>330455.0</td>\n",
       "      <td>101330.0</td>\n",
       "      <td>64325.0</td>\n",
       "    </tr>\n",
       "    <tr>\n",
       "      <th>Total</th>\n",
       "      <td>863495.0</td>\n",
       "      <td>666010.0</td>\n",
       "      <td>197505.0</td>\n",
       "      <td>132970.0</td>\n",
       "    </tr>\n",
       "    <tr>\n",
       "      <th>Women+</th>\n",
       "      <td>431715.0</td>\n",
       "      <td>335620.0</td>\n",
       "      <td>96235.0</td>\n",
       "      <td>68710.0</td>\n",
       "    </tr>\n",
       "  </tbody>\n",
       "</table>\n",
       "</div>"
      ],
      "text/plain": [
       "Characteristic  Canadian citizens  Canadian citizens aged 18 and over  \\\n",
       "Gender                                                                  \n",
       "Men+                     431725.0                            330455.0   \n",
       "Total                    863495.0                            666010.0   \n",
       "Women+                   431715.0                            335620.0   \n",
       "\n",
       "Characteristic  Canadian citizens aged under 18  Not Canadian citizens  \n",
       "Gender                                                                  \n",
       "Men+                                   101330.0                64325.0  \n",
       "Total                                  197505.0               132970.0  \n",
       "Women+                                  96235.0                68710.0  "
      ]
     },
     "execution_count": 12,
     "metadata": {},
     "output_type": "execute_result"
    }
   ],
   "source": [
    "# Grouping the data by Gender and Characteristic to see the distribution\n",
    "gender_distribution = data.groupby(['Gender', 'Characteristic'])['Value'].sum().unstack()\n",
    "\n",
    "gender_distribution"
   ]
  },
  {
   "cell_type": "markdown",
   "metadata": {},
   "source": [
    "The numbers show a relatively balanced distribution of Canadian citizens among men and women, with a slightly higher number of adult women (aged 18 and over) holding citizenship compared to men. The count of non-Canadian citizens is also fairly balanced between the genders, with women having a slightly higher count than men. This suggests an equitable distribution of citizenship status across genders within the neighbourhoods in Edmonton."
   ]
  }
 ],
 "metadata": {
  "kernelspec": {
   "display_name": "Python 3",
   "language": "python",
   "name": "python3"
  },
  "language_info": {
   "codemirror_mode": {
    "name": "ipython",
    "version": 3
   },
   "file_extension": ".py",
   "mimetype": "text/x-python",
   "name": "python",
   "nbconvert_exporter": "python",
   "pygments_lexer": "ipython3",
   "version": "3.11.7"
  }
 },
 "nbformat": 4,
 "nbformat_minor": 2
}
