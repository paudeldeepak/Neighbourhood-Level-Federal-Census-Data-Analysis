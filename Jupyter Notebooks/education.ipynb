{
 "cells": [
  {
   "cell_type": "code",
   "execution_count": 48,
   "metadata": {},
   "outputs": [],
   "source": [
    "# import the required Libraries\n",
    "import pandas as pd"
   ]
  },
  {
   "cell_type": "markdown",
   "metadata": {},
   "source": [
    "## Read the CSV File with Education Data"
   ]
  },
  {
   "cell_type": "code",
   "execution_count": 49,
   "metadata": {},
   "outputs": [],
   "source": [
    "df = pd.read_csv('Data\\\\2021_Federal_Census__Education_20231228.csv')"
   ]
  },
  {
   "cell_type": "markdown",
   "metadata": {},
   "source": [
    "## Group by neighbourhood and sum the values to get the total number for degree type per neighbourhood"
   ]
  },
  {
   "cell_type": "code",
   "execution_count": 50,
   "metadata": {},
   "outputs": [
    {
     "name": "stdout",
     "output_type": "stream",
     "text": [
      "Aged 15 years and over in private households\n",
      "Characteristic\n",
      "With high school diploma or equivalency certificate           677830.0\n",
      "Postsecondary certificate, diploma or degree                  466110.0\n",
      "No postsecondary certificate, diploma or degree               346550.0\n",
      "Bachelor's degree or higher                                   241490.0\n",
      "High (secondary) school diploma or equivalency certificate    227180.0\n",
      "                                                                ...   \n",
      "30.16 Accounting and computer science                             30.0\n",
      "28. Military science, leadership and operational art              20.0\n",
      "Other                                                              0.0\n",
      "30.37 Design for human health                                      0.0\n",
      "30.12 Historic preservation and conservation                       0.0\n",
      "Length: 79, dtype: float64\n",
      "\n",
      "Aged 25 to 64 years in private households\n",
      "Characteristic\n",
      "With high school diploma or equivalency certificate          496590.0\n",
      "Postsecondary certificate, diploma or degree                 374150.0\n",
      "Bachelor's degree or higher                                  200415.0\n",
      "No postsecondary certificate, diploma or degree              187980.0\n",
      "Postsecondary certificate or diploma below bachelor level    173735.0\n",
      "                                                               ...   \n",
      "29. Military technologies and applied sciences                   20.0\n",
      "30.16 Accounting and computer science                            20.0\n",
      "Other                                                             0.0\n",
      "30.12 Historic preservation and conservation                      0.0\n",
      "30.37 Design for human health                                     0.0\n",
      "Length: 79, dtype: float64\n"
     ]
    }
   ],
   "source": [
    "# Filter the data to include only the 'Total' gender category\n",
    "df_total_gender = df[df['Gender'] == 'Total']\n",
    "\n",
    "# Filter the data to include only the 'Total' gender category and the two specific age ranges based on 'Question Type'\n",
    "df_total_gender_15_and_over = df_total_gender[\n",
    "    df_total_gender['Question Type'].str.contains(\"aged 15 years and over in private households\")\n",
    "]\n",
    "df_total_gender_25_to_64 = df_total_gender[\n",
    "    df_total_gender['Question Type'].str.contains(\"aged 25 to 64 years in private households\")\n",
    "]\n",
    "\n",
    "# Group by neighbourhood and characteristic, then unstack for each age group\n",
    "education_summary_total_gender_15_and_over = df_total_gender_15_and_over.groupby(['Neighbourhood', 'Characteristic'])['Value'].sum().unstack()\n",
    "education_summary_total_gender_25_to_64 = df_total_gender_25_to_64.groupby(['Neighbourhood', 'Characteristic'])['Value'].sum().unstack()\n",
    "\n",
    "# Calculate the total number of individuals with each type of education across all neighbourhoods for each age group for 'Total' gender\n",
    "total_education_total_gender_15_and_over = education_summary_total_gender_15_and_over.sum(axis=0).sort_values(ascending=False)\n",
    "total_education_total_gender_25_to_64 = education_summary_total_gender_25_to_64.sum(axis=0).sort_values(ascending=False)\n",
    "\n",
    "print(f\"Aged 15 years and over in private households\\n{total_education_total_gender_15_and_over}\")\n",
    "print(f\"\\nAged 25 to 64 years in private households\\n{total_education_total_gender_25_to_64}\")\n"
   ]
  },
  {
   "cell_type": "markdown",
   "metadata": {},
   "source": [
    "The data shows a strong educational foundation in the community, with high numbers in both high school and postsecondary education across two age groups. There's a noticeable commitment to higher learning, particularly among the younger population. However, a significant portion of the older group lacks postsecondary education, highlighting a potential area for educational support and policy intervention."
   ]
  },
  {
   "cell_type": "markdown",
   "metadata": {},
   "source": [
    "## Find the highest number of individuals with postsecondary education in a Neighbourhood"
   ]
  },
  {
   "cell_type": "code",
   "execution_count": 51,
   "metadata": {},
   "outputs": [
    {
     "name": "stdout",
     "output_type": "stream",
     "text": [
      "Highest number of individuals with postsecondary education aged 15 years and over in private households\n",
      "Neighbourhood\n",
      "Oliver          15525.0\n",
      "Summerside      11420.0\n",
      "Downtown        10160.0\n",
      "Windermere       9060.0\n",
      "Walker           9035.0\n",
      "The Hamptons     9030.0\n",
      "Laurel           9030.0\n",
      "Rutherford       8275.0\n",
      "Chappelle        7540.0\n",
      "Strathcona       7340.0\n",
      "Name: Value, dtype: float64\n",
      "\n",
      "Highest number of individuals with postsecondary education aged 25 to 64 years in private households\n",
      "Neighbourhood\n",
      "Oliver               11735.0\n",
      "Summerside           10370.0\n",
      "Downtown              8325.0\n",
      "Walker                8140.0\n",
      "The Hamptons          7890.0\n",
      "Windermere            7830.0\n",
      "Laurel                7770.0\n",
      "Rutherford            7110.0\n",
      "Chappelle             6950.0\n",
      "South Terwillegar     6090.0\n",
      "Name: Value, dtype: float64\n"
     ]
    }
   ],
   "source": [
    "# Filter for 'Total' gender and records that indicate postsecondary education (excluding 'no Postsecondary')\n",
    "postsecondary_filter = df['Characteristic'].str.contains(\"Postsecondary\") & ~df['Characteristic'].str.contains(\"no Postsecondary\", case=False)\n",
    "gender_total_filter = df['Gender'] == 'Total'\n",
    "\n",
    "# Age group filters using 'contains'\n",
    "age_25_to_64_filter = df['Question Type'].str.contains('aged 25 to 64 years in private households', case=False)\n",
    "age_15_and_over_filter = df['Question Type'].str.contains('aged 15 years and over in private households', case=False)\n",
    "\n",
    "# Apply filters, group by neighbourhood, and sum the values\n",
    "postsecondary_data_25_to_64 = df[postsecondary_filter & gender_total_filter & age_25_to_64_filter].groupby('Neighbourhood')['Value'].sum()\n",
    "postsecondary_data_15_and_over = df[postsecondary_filter & gender_total_filter & age_15_and_over_filter].groupby('Neighbourhood')['Value'].sum()\n",
    "\n",
    "# Sort and get the top 10 neighbourhoods for each age group\n",
    "top_10_neighbourhoods_25_to_64 = postsecondary_data_25_to_64.sort_values(ascending=False).head(10)\n",
    "top_10_neighbourhoods_15_and_over = postsecondary_data_15_and_over.sort_values(ascending=False).head(10)\n",
    "\n",
    "print(f\"Highest number of individuals with postsecondary education aged 15 years and over in private households\\n{top_10_neighbourhoods_15_and_over}\")\n",
    "print(f\"\\nHighest number of individuals with postsecondary education aged 25 to 64 years in private households\\n{top_10_neighbourhoods_25_to_64}\")\n"
   ]
  },
  {
   "cell_type": "markdown",
   "metadata": {},
   "source": [
    "The analysis of postsecondary education across neighbourhoods highlights that Oliver, Summerside, and Downtown are leading in educational attainment for both age groups (15 years and over, and 25 to 64 years). Oliver tops the list with the highest number of individuals holding postsecondary qualifications in both categories. The consistent presence of neighbourhoods like Windermere, Walker, and The Hamptons in the top ranks indicates a concentration of higher education levels in these areas. "
   ]
  }
 ],
 "metadata": {
  "kernelspec": {
   "display_name": "Python 3",
   "language": "python",
   "name": "python3"
  },
  "language_info": {
   "codemirror_mode": {
    "name": "ipython",
    "version": 3
   },
   "file_extension": ".py",
   "mimetype": "text/x-python",
   "name": "python",
   "nbconvert_exporter": "python",
   "pygments_lexer": "ipython3",
   "version": "3.11.7"
  }
 },
 "nbformat": 4,
 "nbformat_minor": 2
}
